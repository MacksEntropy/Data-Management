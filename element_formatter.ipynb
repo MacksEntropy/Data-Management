{
 "cells": [
  {
   "cell_type": "code",
   "execution_count": 4,
   "id": "90c3d698",
   "metadata": {},
   "outputs": [],
   "source": [
    "# Function for customizing the formatting of individual elements of tabular data.\n",
    "# Pandas Documentation: https://pandas.pydata.org/docs/reference/index.html\n",
    "\n",
    "import pandas as pd\n",
    "def element_formatter(file_name): \n",
    "    df = pd.read_excel(file_name) # Defaults to reading an excel file, see documentation for more options \n",
    "    x = 0\n",
    "    y = 0\n",
    "    z = 0\n",
    "    for y in df.columns: # Loops for formatting cells\n",
    "        for index,row in df.iterrows():\n",
    "            df.iloc[x,y] = str(z+1)+':'+str(df.iloc[x,y]) # Formatting can be customized here\n",
    "            x += 1\n",
    "            z += 1\n",
    "            if x == df.shape[0]:\n",
    "                x = 0\n",
    "    print('Done') # Optional\n",
    "    df.to_csv('output.txt')# Defaults to a csv text output, see documentation for more options "
   ]
  }
 ],
 "metadata": {
  "kernelspec": {
   "display_name": "Python 3 (ipykernel)",
   "language": "python",
   "name": "python3"
  },
  "language_info": {
   "codemirror_mode": {
    "name": "ipython",
    "version": 3
   },
   "file_extension": ".py",
   "mimetype": "text/x-python",
   "name": "python",
   "nbconvert_exporter": "python",
   "pygments_lexer": "ipython3",
   "version": "3.8.8"
  }
 },
 "nbformat": 4,
 "nbformat_minor": 5
}
