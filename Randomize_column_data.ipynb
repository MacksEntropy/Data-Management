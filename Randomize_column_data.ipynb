{
 "cells": [
  {
   "cell_type": "code",
   "execution_count": null,
   "id": "3ea65e2a",
   "metadata": {},
   "outputs": [],
   "source": [
    "# Code for randomizing data in a specific column of a DataFrame\n",
    "import pandas as pd\n",
    "import random\n",
    "df = pd.read_csv(file_name) # Default reads a csv, see documetation for more options\n",
    "rand  = []\n",
    "for i in df['column_name']: # Specify column name \n",
    "    rand.append(i + random.uniform(i*0.1, i*0.2)) # Can customize how to manipulate data\n",
    "df['column_name'] = rand"
   ]
  }
 ],
 "metadata": {
  "kernelspec": {
   "display_name": "Python 3 (ipykernel)",
   "language": "python",
   "name": "python3"
  },
  "language_info": {
   "codemirror_mode": {
    "name": "ipython",
    "version": 3
   },
   "file_extension": ".py",
   "mimetype": "text/x-python",
   "name": "python",
   "nbconvert_exporter": "python",
   "pygments_lexer": "ipython3",
   "version": "3.8.8"
  }
 },
 "nbformat": 4,
 "nbformat_minor": 5
}
